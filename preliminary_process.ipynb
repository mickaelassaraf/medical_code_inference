{
 "cells": [
  {
   "cell_type": "code",
   "execution_count": 1,
   "id": "18d41cf9-ca60-4d03-aec8-3da29b42f136",
   "metadata": {
    "tags": []
   },
   "outputs": [
    {
     "name": "stdout",
     "output_type": "stream",
     "text": [
      "Décompression réussie : RoBERTa-base-PM-M3-Voc-hf.tar -> \n"
     ]
    }
   ],
   "source": [
    "import tarfile\n",
    "\n",
    "\n",
    "def decompresser_tar(archive, destination):\n",
    "    try:\n",
    "        with tarfile.open(archive, 'r') as tar:\n",
    "            tar.extractall(destination)\n",
    "        print(\"Décompression réussie : {} -> {}\".format(archive, destination))\n",
    "    except FileNotFoundError:\n",
    "        print(\"Le fichier d'archive n'existe pas.\")\n",
    "    except tarfile.TarError as e:\n",
    "        print(\"Une erreur s'est produite lors de la décompression :\", e)\n",
    "    except Exception as e:\n",
    "        print(\"Une erreur inattendue s'est produite :\", e)\n",
    "\n",
    "\n",
    "archive_tar = 'RoBERTa-base-PM-M3-Voc-hf.tar'\n",
    "destination_extraction = ''\n",
    "decompresser_tar(archive_tar, destination_extraction)"
   ]
  },
  {
   "cell_type": "code",
   "execution_count": 1,
   "id": "6a0f77a4-3079-459a-b4df-40955c74265a",
   "metadata": {},
   "outputs": [
    {
     "name": "stderr",
     "output_type": "stream",
     "text": [
      "Failed to detect the name of this notebook, you can set it manually with the WANDB_NOTEBOOK_NAME environment variable to enable code saving.\n",
      "\u001b[34m\u001b[1mwandb\u001b[0m: Currently logged in as: \u001b[33mguillaume-kunsch\u001b[0m. Use \u001b[1m`wandb login --relogin`\u001b[0m to force relogin\n"
     ]
    },
    {
     "data": {
      "text/plain": [
       "True"
      ]
     },
     "execution_count": 1,
     "metadata": {},
     "output_type": "execute_result"
    }
   ],
   "source": [
    "import wandb \n",
    "wandb.login()"
   ]
  }
 ],
 "metadata": {
  "interpreter": {
   "hash": "b876209fd28a735abf39120b85f5f4a850fb774844763e5f9f93dd123fa003ab"
  },
  "kernelspec": {
   "display_name": "py310",
   "language": "python",
   "name": "python3"
  },
  "language_info": {
   "codemirror_mode": {
    "name": "ipython",
    "version": 3
   },
   "file_extension": ".py",
   "mimetype": "text/x-python",
   "name": "python",
   "nbconvert_exporter": "python",
   "pygments_lexer": "ipython3",
   "version": "3.10.11"
  }
 },
 "nbformat": 4,
 "nbformat_minor": 5
}
