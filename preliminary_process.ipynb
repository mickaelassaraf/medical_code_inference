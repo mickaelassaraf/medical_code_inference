{
 "cells": [
  {
   "cell_type": "code",
   "execution_count": 1,
   "id": "18d41cf9-ca60-4d03-aec8-3da29b42f136",
   "metadata": {
    "tags": []
   },
   "outputs": [
    {
     "name": "stdout",
     "output_type": "stream",
     "text": [
      "Décompression réussie : RoBERTa-base-PM-M3-Voc-hf.tar -> \n"
     ]
    }
   ],
   "source": [
    "import tarfile\n",
    "\n",
    "\n",
    "def decompresser_tar(archive, destination):\n",
    "    try:\n",
    "        with tarfile.open(archive, 'r') as tar:\n",
    "            tar.extractall(destination)\n",
    "        print(\"Décompression réussie : {} -> {}\".format(archive, destination))\n",
    "    except FileNotFoundError:\n",
    "        print(\"Le fichier d'archive n'existe pas.\")\n",
    "    except tarfile.TarError as e:\n",
    "        print(\"Une erreur s'est produite lors de la décompression :\", e)\n",
    "    except Exception as e:\n",
    "        print(\"Une erreur inattendue s'est produite :\", e)\n",
    "\n",
    "\n",
    "archive_tar = 'RoBERTa-base-PM-M3-Voc-hf.tar'\n",
    "destination_extraction = ''\n",
    "decompresser_tar(archive_tar, destination_extraction)"
   ]
  },
  {
   "cell_type": "code",
   "execution_count": 2,
   "id": "6a0f77a4-3079-459a-b4df-40955c74265a",
   "metadata": {},
   "outputs": [
    {
     "name": "stderr",
     "output_type": "stream",
     "text": [
      "\u001b[34m\u001b[1mwandb\u001b[0m: Logging into wandb.ai. (Learn how to deploy a W&B server locally: https://wandb.me/wandb-server)\n",
      "\u001b[34m\u001b[1mwandb\u001b[0m: You can find your API key in your browser here: https://wandb.ai/authorize\n",
      "\u001b[34m\u001b[1mwandb\u001b[0m: Paste an API key from your profile and hit enter, or press ctrl+c to quit:"
     ]
    },
    {
     "name": "stdin",
     "output_type": "stream",
     "text": [
      "  ········\n"
     ]
    },
    {
     "name": "stderr",
     "output_type": "stream",
     "text": [
      "\u001b[34m\u001b[1mwandb\u001b[0m: Appending key for api.wandb.ai to your netrc file: /home/jovyan/.netrc\n"
     ]
    },
    {
     "data": {
      "text/plain": [
       "True"
      ]
     },
     "execution_count": 2,
     "metadata": {},
     "output_type": "execute_result"
    }
   ],
   "source": [
    "import wandb \n",
    "wandb.login()"
   ]
  }
 ],
 "metadata": {
  "kernelspec": {
   "display_name": "py310",
   "language": "python",
   "name": "py310"
  },
  "language_info": {
   "codemirror_mode": {
    "name": "ipython",
    "version": 3
   },
   "file_extension": ".py",
   "mimetype": "text/x-python",
   "name": "python",
   "nbconvert_exporter": "python",
   "pygments_lexer": "ipython3",
   "version": "3.8.10"
  }
 },
 "nbformat": 4,
 "nbformat_minor": 5
}
