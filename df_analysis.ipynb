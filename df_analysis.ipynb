{
 "cells": [
  {
   "cell_type": "code",
   "execution_count": 1,
   "id": "8bcd7ff0-d3e3-4090-996d-8a7d8371a619",
   "metadata": {
    "tags": []
   },
   "outputs": [],
   "source": [
    "import pandas as pd"
   ]
  },
  {
   "cell_type": "markdown",
   "id": "8812117f",
   "metadata": {},
   "source": [
    "# Training sets"
   ]
  },
  {
   "cell_type": "markdown",
   "id": "52870ea0-d30d-41fe-901d-e83aefb5e894",
   "metadata": {
    "tags": []
   },
   "source": [
    "## MIMIC-III"
   ]
  },
  {
   "cell_type": "code",
   "execution_count": 7,
   "id": "d82534fc-4482-40b9-b1cf-991c3b6d4b72",
   "metadata": {
    "tags": []
   },
   "outputs": [],
   "source": [
    "mimic_iii_icd_df = pd.read_feather('files/data/mimiciii_clean/mimiciii_clean_icd.feather')\n",
    "mimic_iii_cpt_df = pd.read_feather('files/data/mimiciii_clean_cpt/mimiciii_clean_cpt.feather')\n",
    "mimic_iii_icd_df_split = pd.read_feather('files/data/mimiciii_clean/mimiciii_clean_splits.feather')\n",
    "mimic_iii_cpt_df_split = pd.read_feather('files/data/mimiciii_clean_cpt/mimiciii_clean_splits.feather')\n"
   ]
  },
  {
   "cell_type": "code",
   "execution_count": 8,
   "id": "f4a5b466-9320-4ed3-b108-c924d51da669",
   "metadata": {
    "tags": []
   },
   "outputs": [
    {
     "name": "stdout",
     "output_type": "stream",
     "text": [
      "52712\n",
      "52712\n",
      "42701\n",
      "42701\n"
     ]
    }
   ],
   "source": [
    "print(len(mimic_iii_icd_df_split))\n",
    "print(len(mimic_iii_icd_df))\n",
    "print(len(mimic_iii_cpt_df_split))\n",
    "print(len(mimic_iii_cpt_df))"
   ]
  },
  {
   "cell_type": "markdown",
   "id": "0dcd2164-b5fa-4fe3-b300-b80fb6ddc58b",
   "metadata": {
    "tags": []
   },
   "source": [
    "## MIMIC-IV"
   ]
  },
  {
   "cell_type": "code",
   "execution_count": 10,
   "id": "e1ce5248-ac63-4557-a876-bfa57f8c0e7e",
   "metadata": {
    "tags": []
   },
   "outputs": [],
   "source": [
    "mimic_iv_icd10 = pd.read_feather('files/data/mimiciv_icd10/mimiciv_icd10.feather')\n",
    "mimic_iv_icd9 = pd.read_feather('files/data/mimiciv_icd9/mimiciv_icd9.feather')\n",
    "mimic_iv_icd10_split = pd.read_feather('files/data/mimiciv_icd10/mimiciv_icd10_split.feather')\n",
    "mimic_iv_icd9_split = pd.read_feather('files/data/mimiciv_icd9/mimiciv_icd9_split.feather')"
   ]
  },
  {
   "cell_type": "code",
   "execution_count": 11,
   "id": "097eea69-54b9-4abf-90af-1174f74e8bd3",
   "metadata": {
    "tags": []
   },
   "outputs": [
    {
     "name": "stdout",
     "output_type": "stream",
     "text": [
      "122279\n",
      "122279\n",
      "209326\n",
      "209326\n"
     ]
    }
   ],
   "source": [
    "print(len(mimic_iv_icd10))\n",
    "print(len(mimic_iv_icd10_split))\n",
    "print(len(mimic_iv_icd9_split))\n",
    "print(len(mimic_iv_icd9))"
   ]
  },
  {
   "cell_type": "markdown",
   "id": "23502dd6",
   "metadata": {},
   "source": [
    "# Check comparisons MIMIC vs MIMIC +AXA"
   ]
  },
  {
   "cell_type": "markdown",
   "id": "320a4a3c",
   "metadata": {},
   "source": [
    "## CPT"
   ]
  },
  {
   "cell_type": "code",
   "execution_count": 14,
   "id": "fd3b1d09",
   "metadata": {},
   "outputs": [],
   "source": [
    "#import data\n",
    "axa_data = pd.read_feather('files/data/axa_cpt/axa_cpt.feather')\n",
    "mimic_axa_split = pd.read_feather('files/data/mimic_axa_cpt/mimic_axa_cpt_split.feather')\n",
    "mimic_split = pd.read_feather('files/data/mimiciii_clean_cpt/mimiciii_clean_splits.feather')"
   ]
  },
  {
   "cell_type": "code",
   "execution_count": 15,
   "id": "2b20a0a6",
   "metadata": {},
   "outputs": [
    {
     "name": "stdout",
     "output_type": "stream",
     "text": [
      "0.9787020482418995\n"
     ]
    }
   ],
   "source": [
    "#check train data\n",
    "train_mimic_split =  set(mimic_split[mimic_split['split']=='train']['_id'].unique())\n",
    "train_mimic_axa_split =  set(mimic_axa_split[mimic_axa_split['split']=='train']['_id'].unique())\n",
    "\n",
    "nb_train = len(train_mimic_split)\n",
    "common = len(train_mimic_split.intersection(train_mimic_axa_split))\n",
    "print(common/nb_train)"
   ]
  },
  {
   "cell_type": "code",
   "execution_count": 16,
   "id": "f9e0e17e",
   "metadata": {},
   "outputs": [
    {
     "name": "stdout",
     "output_type": "stream",
     "text": [
      "0.8514150943396226\n"
     ]
    }
   ],
   "source": [
    "#check validation data \n",
    "val_mimic_split =  set(mimic_split[mimic_split['split']=='val']['_id'].unique())\n",
    "val_mimic_axa_split =  set(mimic_axa_split[mimic_axa_split['split']=='val']['_id'].unique())\n",
    "\n",
    "nb_val = len(val_mimic_split)\n",
    "common = len(val_mimic_split.intersection(val_mimic_axa_split))\n",
    "print(common/nb_val)"
   ]
  },
  {
   "cell_type": "code",
   "execution_count": 17,
   "id": "085470df",
   "metadata": {},
   "outputs": [
    {
     "name": "stdout",
     "output_type": "stream",
     "text": [
      "0.9945288753799392\n"
     ]
    }
   ],
   "source": [
    "#check test data\n",
    "test_mimic_split =  set(mimic_split[mimic_split['split']=='test']['_id'].unique())\n",
    "test_mimic_axa_split =  set(mimic_axa_split[mimic_axa_split['split']=='test']['_id'].unique())\n",
    "\n",
    "nb_test = len(test_mimic_split)\n",
    "common = len(test_mimic_split.intersection(test_mimic_axa_split))\n",
    "print(common/nb_test)"
   ]
  },
  {
   "cell_type": "markdown",
   "id": "a53184a8",
   "metadata": {},
   "source": [
    "## ICD"
   ]
  },
  {
   "cell_type": "code",
   "execution_count": 28,
   "id": "fd3b1d09",
   "metadata": {},
   "outputs": [],
   "source": [
    "#import data\n",
    "axa_data = pd.read_feather('files/data/axa_icd10/axa_icd10.feather')\n",
    "mimic_axa_split = pd.read_feather('files/data/mimic_axa_icd/mimic_axa_icd10_split.feather')\n",
    "mimic_split = pd.read_feather('files/data/mimiciv_icd10/mimiciv_icd10_split.feather')"
   ]
  },
  {
   "cell_type": "code",
   "execution_count": 25,
   "id": "952b845b",
   "metadata": {},
   "outputs": [
    {
     "name": "stdout",
     "output_type": "stream",
     "text": [
      "0.9257230720883511\n"
     ]
    }
   ],
   "source": [
    "#check train data\n",
    "train_mimic_split =  set(mimic_split[mimic_split['split']=='train']['_id'].unique())\n",
    "train_mimic_axa_split =  set(mimic_axa_split[mimic_axa_split['split']=='train']['_id'].unique())\n",
    "\n",
    "nb_train = len(train_mimic_split)\n",
    "common = len(train_mimic_split.intersection(train_mimic_axa_split))\n",
    "print(common/nb_train)"
   ]
  },
  {
   "cell_type": "code",
   "execution_count": 26,
   "id": "f9e0e17e",
   "metadata": {},
   "outputs": [
    {
     "name": "stdout",
     "output_type": "stream",
     "text": [
      "0.5846912841979369\n"
     ]
    }
   ],
   "source": [
    "#check validation data \n",
    "val_mimic_split =  set(mimic_split[mimic_split['split']=='val']['_id'].unique())\n",
    "val_mimic_axa_split =  set(mimic_axa_split[mimic_axa_split['split']=='val']['_id'].unique())\n",
    "\n",
    "nb_val = len(val_mimic_split)\n",
    "common = len(val_mimic_split.intersection(val_mimic_axa_split))\n",
    "print(common/nb_val)"
   ]
  },
  {
   "cell_type": "code",
   "execution_count": 27,
   "id": "085470df",
   "metadata": {},
   "outputs": [
    {
     "name": "stdout",
     "output_type": "stream",
     "text": [
      "0.9247045752954247\n"
     ]
    }
   ],
   "source": [
    "#check test data\n",
    "test_mimic_split =  set(mimic_split[mimic_split['split']=='test']['_id'].unique())\n",
    "test_mimic_axa_split =  set(mimic_axa_split[mimic_axa_split['split']=='test']['_id'].unique())\n",
    "\n",
    "nb_test = len(test_mimic_split)\n",
    "common = len(test_mimic_split.intersection(test_mimic_axa_split))\n",
    "print(common/nb_test)"
   ]
  }
 ],
 "metadata": {
  "interpreter": {
   "hash": "871fb798708bc838ff59fced721021478b983a1108d0bec8499998232f12f3e6"
  },
  "kernelspec": {
   "display_name": "Python 3 (ipykernel)",
   "language": "python",
   "name": "python3"
  },
  "language_info": {
   "codemirror_mode": {
    "name": "ipython",
    "version": 3
   },
   "file_extension": ".py",
   "mimetype": "text/x-python",
   "name": "python",
   "nbconvert_exporter": "python",
   "pygments_lexer": "ipython3",
   "version": "3.10.11"
  }
 },
 "nbformat": 4,
 "nbformat_minor": 5
}
