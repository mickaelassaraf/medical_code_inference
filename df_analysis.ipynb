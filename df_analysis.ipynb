{
 "cells": [
  {
   "cell_type": "code",
   "execution_count": 2,
   "id": "8bcd7ff0-d3e3-4090-996d-8a7d8371a619",
   "metadata": {
    "tags": []
   },
   "outputs": [],
   "source": [
    "import pandas as pd"
   ]
  },
  {
   "cell_type": "markdown",
   "id": "52870ea0-d30d-41fe-901d-e83aefb5e894",
   "metadata": {
    "tags": []
   },
   "source": [
    "# MIMIC-III"
   ]
  },
  {
   "cell_type": "code",
   "execution_count": 2,
   "id": "d82534fc-4482-40b9-b1cf-991c3b6d4b72",
   "metadata": {
    "tags": []
   },
   "outputs": [],
   "source": [
    "mimic_iii_icd_df = pd.read_feather('files/data/mimiciii_clean/mimiciii_clean_icd.feather')\n",
    "mimic_iii_cpt_df = pd.read_feather('files/data/mimiciii_clean_cpt/mimiciii_clean_cpt.feather')\n"
   ]
  },
  {
   "cell_type": "code",
   "execution_count": 3,
   "id": "142bff68-1b46-48dc-8c70-db268e3e0575",
   "metadata": {
    "tags": []
   },
   "outputs": [
    {
     "data": {
      "text/html": [
       "<div>\n",
       "<style scoped>\n",
       "    .dataframe tbody tr th:only-of-type {\n",
       "        vertical-align: middle;\n",
       "    }\n",
       "\n",
       "    .dataframe tbody tr th {\n",
       "        vertical-align: top;\n",
       "    }\n",
       "\n",
       "    .dataframe thead th {\n",
       "        text-align: right;\n",
       "    }\n",
       "</style>\n",
       "<table border=\"1\" class=\"dataframe\">\n",
       "  <thead>\n",
       "    <tr style=\"text-align: right;\">\n",
       "      <th></th>\n",
       "      <th>subject_id</th>\n",
       "      <th>_id</th>\n",
       "      <th>DESCRIPTION</th>\n",
       "      <th>text</th>\n",
       "      <th>cpt</th>\n",
       "      <th>target</th>\n",
       "      <th>num_words</th>\n",
       "      <th>num_targets</th>\n",
       "    </tr>\n",
       "  </thead>\n",
       "  <tbody>\n",
       "    <tr>\n",
       "      <th>0</th>\n",
       "      <td>3</td>\n",
       "      <td>145834</td>\n",
       "      <td>Report</td>\n",
       "      <td>admission date discharge date date of birth se...</td>\n",
       "      <td>[94002, 94003]</td>\n",
       "      <td>[94002, 94003]</td>\n",
       "      <td>2153</td>\n",
       "      <td>2</td>\n",
       "    </tr>\n",
       "    <tr>\n",
       "      <th>1</th>\n",
       "      <td>4</td>\n",
       "      <td>185777</td>\n",
       "      <td>Report</td>\n",
       "      <td>admission date discharge date date of birth se...</td>\n",
       "      <td>[99231, 99238, 99233, 99223, 99232]</td>\n",
       "      <td>[99231, 99238, 99233, 99223, 99232]</td>\n",
       "      <td>1442</td>\n",
       "      <td>5</td>\n",
       "    </tr>\n",
       "    <tr>\n",
       "      <th>2</th>\n",
       "      <td>6</td>\n",
       "      <td>107064</td>\n",
       "      <td>Report</td>\n",
       "      <td>admission date discharge date date of birth se...</td>\n",
       "      <td>[99231, 99291, 99239, 99233, 99232, 99255]</td>\n",
       "      <td>[99231, 99291, 99239, 99233, 99232, 99255]</td>\n",
       "      <td>1037</td>\n",
       "      <td>6</td>\n",
       "    </tr>\n",
       "    <tr>\n",
       "      <th>3</th>\n",
       "      <td>9</td>\n",
       "      <td>150750</td>\n",
       "      <td>Report+Addendum</td>\n",
       "      <td>admission date discharge date date of birth se...</td>\n",
       "      <td>[94003]</td>\n",
       "      <td>[94003]</td>\n",
       "      <td>1388</td>\n",
       "      <td>1</td>\n",
       "    </tr>\n",
       "    <tr>\n",
       "      <th>4</th>\n",
       "      <td>11</td>\n",
       "      <td>194540</td>\n",
       "      <td>Report</td>\n",
       "      <td>admission date discharge date date of birth se...</td>\n",
       "      <td>[99239, 99233]</td>\n",
       "      <td>[99239, 99233]</td>\n",
       "      <td>2010</td>\n",
       "      <td>2</td>\n",
       "    </tr>\n",
       "  </tbody>\n",
       "</table>\n",
       "</div>"
      ],
      "text/plain": [
       "   subject_id     _id      DESCRIPTION  \\\n",
       "0           3  145834           Report   \n",
       "1           4  185777           Report   \n",
       "2           6  107064           Report   \n",
       "3           9  150750  Report+Addendum   \n",
       "4          11  194540           Report   \n",
       "\n",
       "                                                text  \\\n",
       "0  admission date discharge date date of birth se...   \n",
       "1  admission date discharge date date of birth se...   \n",
       "2  admission date discharge date date of birth se...   \n",
       "3  admission date discharge date date of birth se...   \n",
       "4  admission date discharge date date of birth se...   \n",
       "\n",
       "                                          cpt  \\\n",
       "0                              [94002, 94003]   \n",
       "1         [99231, 99238, 99233, 99223, 99232]   \n",
       "2  [99231, 99291, 99239, 99233, 99232, 99255]   \n",
       "3                                     [94003]   \n",
       "4                              [99239, 99233]   \n",
       "\n",
       "                                       target  num_words  num_targets  \n",
       "0                              [94002, 94003]       2153            2  \n",
       "1         [99231, 99238, 99233, 99223, 99232]       1442            5  \n",
       "2  [99231, 99291, 99239, 99233, 99232, 99255]       1037            6  \n",
       "3                                     [94003]       1388            1  \n",
       "4                              [99239, 99233]       2010            2  "
      ]
     },
     "execution_count": 3,
     "metadata": {},
     "output_type": "execute_result"
    }
   ],
   "source": [
    "mimic_iii_cpt_df.head()"
   ]
  },
  {
   "cell_type": "code",
   "execution_count": 4,
   "id": "60f9783f-5386-4f4a-9d6e-2cbcf359b00f",
   "metadata": {
    "tags": []
   },
   "outputs": [
    {
     "data": {
      "text/html": [
       "<div>\n",
       "<style scoped>\n",
       "    .dataframe tbody tr th:only-of-type {\n",
       "        vertical-align: middle;\n",
       "    }\n",
       "\n",
       "    .dataframe tbody tr th {\n",
       "        vertical-align: top;\n",
       "    }\n",
       "\n",
       "    .dataframe thead th {\n",
       "        text-align: right;\n",
       "    }\n",
       "</style>\n",
       "<table border=\"1\" class=\"dataframe\">\n",
       "  <thead>\n",
       "    <tr style=\"text-align: right;\">\n",
       "      <th></th>\n",
       "      <th>subject_id</th>\n",
       "      <th>_id</th>\n",
       "      <th>DESCRIPTION</th>\n",
       "      <th>text</th>\n",
       "      <th>icd9_diag</th>\n",
       "      <th>icd9_proc</th>\n",
       "      <th>target</th>\n",
       "      <th>num_words</th>\n",
       "      <th>num_targets</th>\n",
       "    </tr>\n",
       "  </thead>\n",
       "  <tbody>\n",
       "    <tr>\n",
       "      <th>0</th>\n",
       "      <td>3</td>\n",
       "      <td>145834</td>\n",
       "      <td>Report</td>\n",
       "      <td>admission date discharge date date of birth se...</td>\n",
       "      <td>[410.71, 428.0, 682.6, 427.5, 263.9, 584.9, 42...</td>\n",
       "      <td>[89.64, 38.93, 99.62, 96.04, 96.72, 96.6]</td>\n",
       "      <td>[89.64, 38.93, 99.62, 96.04, 96.72, 96.6, 410....</td>\n",
       "      <td>2153</td>\n",
       "      <td>15</td>\n",
       "    </tr>\n",
       "    <tr>\n",
       "      <th>1</th>\n",
       "      <td>4</td>\n",
       "      <td>185777</td>\n",
       "      <td>Report</td>\n",
       "      <td>admission date discharge date date of birth se...</td>\n",
       "      <td>[790.7, E931.7, V09.0, 136.3, 041.11, 799.4, 2...</td>\n",
       "      <td>[88.72, 38.93, 33.23]</td>\n",
       "      <td>[88.72, 38.93, 33.23, 790.7, E931.7, V09.0, 13...</td>\n",
       "      <td>1442</td>\n",
       "      <td>12</td>\n",
       "    </tr>\n",
       "    <tr>\n",
       "      <th>2</th>\n",
       "      <td>6</td>\n",
       "      <td>107064</td>\n",
       "      <td>Report</td>\n",
       "      <td>admission date discharge date date of birth se...</td>\n",
       "      <td>[285.9, 276.7, 403.91, 275.3, V15.82, 997.2, 2...</td>\n",
       "      <td>[99.04, 39.57, 00.91, 55.69, 38.06]</td>\n",
       "      <td>[99.04, 39.57, 00.91, 55.69, 38.06, 285.9, 276...</td>\n",
       "      <td>1037</td>\n",
       "      <td>13</td>\n",
       "    </tr>\n",
       "    <tr>\n",
       "      <th>3</th>\n",
       "      <td>9</td>\n",
       "      <td>150750</td>\n",
       "      <td>Report+Addendum</td>\n",
       "      <td>admission date discharge date date of birth se...</td>\n",
       "      <td>[431, 428.0, 507.0, 276.5, 584.9, 401.9]</td>\n",
       "      <td>[96.04, 96.72]</td>\n",
       "      <td>[96.04, 96.72, 431, 428.0, 507.0, 276.5, 584.9...</td>\n",
       "      <td>1388</td>\n",
       "      <td>8</td>\n",
       "    </tr>\n",
       "    <tr>\n",
       "      <th>4</th>\n",
       "      <td>10</td>\n",
       "      <td>184167</td>\n",
       "      <td>Report</td>\n",
       "      <td>admission date discharge date date of birth se...</td>\n",
       "      <td>[V29.0, 765.15, 774.2, V30.00, 765.25]</td>\n",
       "      <td>[99.15, 99.83, 96.6]</td>\n",
       "      <td>[99.15, 99.83, 96.6, V29.0, 765.15, 774.2, V30...</td>\n",
       "      <td>518</td>\n",
       "      <td>8</td>\n",
       "    </tr>\n",
       "  </tbody>\n",
       "</table>\n",
       "</div>"
      ],
      "text/plain": [
       "   subject_id     _id      DESCRIPTION  \\\n",
       "0           3  145834           Report   \n",
       "1           4  185777           Report   \n",
       "2           6  107064           Report   \n",
       "3           9  150750  Report+Addendum   \n",
       "4          10  184167           Report   \n",
       "\n",
       "                                                text  \\\n",
       "0  admission date discharge date date of birth se...   \n",
       "1  admission date discharge date date of birth se...   \n",
       "2  admission date discharge date date of birth se...   \n",
       "3  admission date discharge date date of birth se...   \n",
       "4  admission date discharge date date of birth se...   \n",
       "\n",
       "                                           icd9_diag  \\\n",
       "0  [410.71, 428.0, 682.6, 427.5, 263.9, 584.9, 42...   \n",
       "1  [790.7, E931.7, V09.0, 136.3, 041.11, 799.4, 2...   \n",
       "2  [285.9, 276.7, 403.91, 275.3, V15.82, 997.2, 2...   \n",
       "3           [431, 428.0, 507.0, 276.5, 584.9, 401.9]   \n",
       "4             [V29.0, 765.15, 774.2, V30.00, 765.25]   \n",
       "\n",
       "                                   icd9_proc  \\\n",
       "0  [89.64, 38.93, 99.62, 96.04, 96.72, 96.6]   \n",
       "1                      [88.72, 38.93, 33.23]   \n",
       "2        [99.04, 39.57, 00.91, 55.69, 38.06]   \n",
       "3                             [96.04, 96.72]   \n",
       "4                       [99.15, 99.83, 96.6]   \n",
       "\n",
       "                                              target  num_words  num_targets  \n",
       "0  [89.64, 38.93, 99.62, 96.04, 96.72, 96.6, 410....       2153           15  \n",
       "1  [88.72, 38.93, 33.23, 790.7, E931.7, V09.0, 13...       1442           12  \n",
       "2  [99.04, 39.57, 00.91, 55.69, 38.06, 285.9, 276...       1037           13  \n",
       "3  [96.04, 96.72, 431, 428.0, 507.0, 276.5, 584.9...       1388            8  \n",
       "4  [99.15, 99.83, 96.6, V29.0, 765.15, 774.2, V30...        518            8  "
      ]
     },
     "execution_count": 4,
     "metadata": {},
     "output_type": "execute_result"
    }
   ],
   "source": [
    "mimic_iii_icd_df.head()"
   ]
  },
  {
   "cell_type": "code",
   "execution_count": 5,
   "id": "972ba1d5-af06-47e4-94a6-1267793dd1e8",
   "metadata": {
    "tags": []
   },
   "outputs": [],
   "source": [
    "mimic_iii_icd_df_split = pd.read_feather('files/data/mimiciii_clean/mimiciii_clean_splits.feather')"
   ]
  },
  {
   "cell_type": "code",
   "execution_count": 6,
   "id": "7f6805e9-71e5-4351-84bf-2559787a43bc",
   "metadata": {
    "tags": []
   },
   "outputs": [
    {
     "data": {
      "text/plain": [
       "52712"
      ]
     },
     "execution_count": 6,
     "metadata": {},
     "output_type": "execute_result"
    }
   ],
   "source": [
    "len(mimic_iii_icd_df_split)"
   ]
  },
  {
   "cell_type": "code",
   "execution_count": 7,
   "id": "f4a5b466-9320-4ed3-b108-c924d51da669",
   "metadata": {
    "tags": []
   },
   "outputs": [
    {
     "data": {
      "text/plain": [
       "52712"
      ]
     },
     "execution_count": 7,
     "metadata": {},
     "output_type": "execute_result"
    }
   ],
   "source": [
    "len(mimic_iii_icd_df)"
   ]
  },
  {
   "cell_type": "code",
   "execution_count": 8,
   "id": "4e10b02c-2c19-4839-ad76-6e6f3a45fba8",
   "metadata": {
    "tags": []
   },
   "outputs": [],
   "source": [
    "mimic_iii_cpt_df_split = pd.read_feather('files/data/mimiciii_clean_cpt/mimiciii_clean_splits.feather')"
   ]
  },
  {
   "cell_type": "code",
   "execution_count": 9,
   "id": "4583db59-e191-4e63-a7dd-b3b9fd7ec2ab",
   "metadata": {
    "tags": []
   },
   "outputs": [
    {
     "data": {
      "text/plain": [
       "42701"
      ]
     },
     "execution_count": 9,
     "metadata": {},
     "output_type": "execute_result"
    }
   ],
   "source": [
    "len(mimic_iii_cpt_df_split)"
   ]
  },
  {
   "cell_type": "code",
   "execution_count": 10,
   "id": "90f74830-bdd7-45f9-94dd-86685d6d7702",
   "metadata": {
    "tags": []
   },
   "outputs": [
    {
     "data": {
      "text/plain": [
       "42701"
      ]
     },
     "execution_count": 10,
     "metadata": {},
     "output_type": "execute_result"
    }
   ],
   "source": [
    "len(mimic_iii_cpt_df)"
   ]
  },
  {
   "cell_type": "markdown",
   "id": "0dcd2164-b5fa-4fe3-b300-b80fb6ddc58b",
   "metadata": {
    "tags": []
   },
   "source": [
    "# MIMIC-IV"
   ]
  },
  {
   "cell_type": "code",
   "execution_count": 11,
   "id": "e1ce5248-ac63-4557-a876-bfa57f8c0e7e",
   "metadata": {
    "tags": []
   },
   "outputs": [],
   "source": [
    "mimic_iv_icd10 = pd.read_feather('files/data/mimiciv_icd10/mimiciv_icd10.feather')\n",
    "mimic_iv_icd9 = pd.read_feather('files/data/mimiciv_icd9/mimiciv_icd9.feather')"
   ]
  },
  {
   "cell_type": "code",
   "execution_count": 12,
   "id": "2e8e372c-e1fc-490a-a943-aaf241319723",
   "metadata": {
    "tags": []
   },
   "outputs": [
    {
     "data": {
      "text/html": [
       "<div>\n",
       "<style scoped>\n",
       "    .dataframe tbody tr th:only-of-type {\n",
       "        vertical-align: middle;\n",
       "    }\n",
       "\n",
       "    .dataframe tbody tr th {\n",
       "        vertical-align: top;\n",
       "    }\n",
       "\n",
       "    .dataframe thead th {\n",
       "        text-align: right;\n",
       "    }\n",
       "</style>\n",
       "<table border=\"1\" class=\"dataframe\">\n",
       "  <thead>\n",
       "    <tr style=\"text-align: right;\">\n",
       "      <th></th>\n",
       "      <th>note_id</th>\n",
       "      <th>subject_id</th>\n",
       "      <th>_id</th>\n",
       "      <th>note_type</th>\n",
       "      <th>note_seq</th>\n",
       "      <th>charttime</th>\n",
       "      <th>storetime</th>\n",
       "      <th>text</th>\n",
       "      <th>icd10_proc</th>\n",
       "      <th>icd10_diag</th>\n",
       "      <th>target</th>\n",
       "      <th>num_words</th>\n",
       "      <th>num_targets</th>\n",
       "    </tr>\n",
       "  </thead>\n",
       "  <tbody>\n",
       "    <tr>\n",
       "      <th>0</th>\n",
       "      <td>10000084-DS-17</td>\n",
       "      <td>10000084</td>\n",
       "      <td>23052089</td>\n",
       "      <td>DS</td>\n",
       "      <td>17</td>\n",
       "      <td>2160-11-25 00:00:00</td>\n",
       "      <td>2160-11-25 15:09:00</td>\n",
       "      <td>name unit no admission date discharge date dat...</td>\n",
       "      <td>[]</td>\n",
       "      <td>[E78.5, F02.80, G31.83, R29.6, R44.1, Z85.46]</td>\n",
       "      <td>[E78.5, F02.80, G31.83, R29.6, R44.1, Z85.46]</td>\n",
       "      <td>1305</td>\n",
       "      <td>6</td>\n",
       "    </tr>\n",
       "    <tr>\n",
       "      <th>1</th>\n",
       "      <td>10000117-DS-21</td>\n",
       "      <td>10000117</td>\n",
       "      <td>22927623</td>\n",
       "      <td>DS</td>\n",
       "      <td>21</td>\n",
       "      <td>2181-11-15 00:00:00</td>\n",
       "      <td>2181-11-15 15:04:00</td>\n",
       "      <td>name unit no admission date discharge date dat...</td>\n",
       "      <td>[]</td>\n",
       "      <td>[F41.9, I34.1, K21.9, K31.819, K44.9, M81.0, R...</td>\n",
       "      <td>[F41.9, I34.1, K21.9, K31.819, K44.9, M81.0, R...</td>\n",
       "      <td>626</td>\n",
       "      <td>9</td>\n",
       "    </tr>\n",
       "    <tr>\n",
       "      <th>2</th>\n",
       "      <td>10000117-DS-22</td>\n",
       "      <td>10000117</td>\n",
       "      <td>27988844</td>\n",
       "      <td>DS</td>\n",
       "      <td>22</td>\n",
       "      <td>2183-09-21 00:00:00</td>\n",
       "      <td>2183-09-29 16:23:00</td>\n",
       "      <td>name unit no admission date discharge date dat...</td>\n",
       "      <td>[0QS734Z]</td>\n",
       "      <td>[E78.00, F41.9, G43.909, I34.1, K21.9, M81.0, ...</td>\n",
       "      <td>[0QS734Z, E78.00, F41.9, G43.909, I34.1, K21.9...</td>\n",
       "      <td>887</td>\n",
       "      <td>13</td>\n",
       "    </tr>\n",
       "    <tr>\n",
       "      <th>3</th>\n",
       "      <td>10000980-DS-24</td>\n",
       "      <td>10000980</td>\n",
       "      <td>25911675</td>\n",
       "      <td>DS</td>\n",
       "      <td>24</td>\n",
       "      <td>2191-05-24 00:00:00</td>\n",
       "      <td>2191-05-24 17:29:00</td>\n",
       "      <td>name unit no admission date discharge date dat...</td>\n",
       "      <td>[]</td>\n",
       "      <td>[D50.0, E11.8, I12.9, I25.10, I25.2, I50.23, I...</td>\n",
       "      <td>[D50.0, E11.8, I12.9, I25.10, I25.2, I50.23, I...</td>\n",
       "      <td>1722</td>\n",
       "      <td>22</td>\n",
       "    </tr>\n",
       "    <tr>\n",
       "      <th>4</th>\n",
       "      <td>10000980-DS-25</td>\n",
       "      <td>10000980</td>\n",
       "      <td>29659838</td>\n",
       "      <td>DS</td>\n",
       "      <td>25</td>\n",
       "      <td>2191-07-19 00:00:00</td>\n",
       "      <td>2191-07-22 09:37:00</td>\n",
       "      <td>name unit no admission date discharge date dat...</td>\n",
       "      <td>[]</td>\n",
       "      <td>[D63.1, E11.21, E78.5, I12.9, I25.10, I25.2, I...</td>\n",
       "      <td>[D63.1, E11.21, E78.5, I12.9, I25.10, I25.2, I...</td>\n",
       "      <td>1547</td>\n",
       "      <td>16</td>\n",
       "    </tr>\n",
       "  </tbody>\n",
       "</table>\n",
       "</div>"
      ],
      "text/plain": [
       "          note_id  subject_id       _id note_type  note_seq  \\\n",
       "0  10000084-DS-17    10000084  23052089        DS        17   \n",
       "1  10000117-DS-21    10000117  22927623        DS        21   \n",
       "2  10000117-DS-22    10000117  27988844        DS        22   \n",
       "3  10000980-DS-24    10000980  25911675        DS        24   \n",
       "4  10000980-DS-25    10000980  29659838        DS        25   \n",
       "\n",
       "             charttime            storetime  \\\n",
       "0  2160-11-25 00:00:00  2160-11-25 15:09:00   \n",
       "1  2181-11-15 00:00:00  2181-11-15 15:04:00   \n",
       "2  2183-09-21 00:00:00  2183-09-29 16:23:00   \n",
       "3  2191-05-24 00:00:00  2191-05-24 17:29:00   \n",
       "4  2191-07-19 00:00:00  2191-07-22 09:37:00   \n",
       "\n",
       "                                                text icd10_proc  \\\n",
       "0  name unit no admission date discharge date dat...         []   \n",
       "1  name unit no admission date discharge date dat...         []   \n",
       "2  name unit no admission date discharge date dat...  [0QS734Z]   \n",
       "3  name unit no admission date discharge date dat...         []   \n",
       "4  name unit no admission date discharge date dat...         []   \n",
       "\n",
       "                                          icd10_diag  \\\n",
       "0      [E78.5, F02.80, G31.83, R29.6, R44.1, Z85.46]   \n",
       "1  [F41.9, I34.1, K21.9, K31.819, K44.9, M81.0, R...   \n",
       "2  [E78.00, F41.9, G43.909, I34.1, K21.9, M81.0, ...   \n",
       "3  [D50.0, E11.8, I12.9, I25.10, I25.2, I50.23, I...   \n",
       "4  [D63.1, E11.21, E78.5, I12.9, I25.10, I25.2, I...   \n",
       "\n",
       "                                              target  num_words  num_targets  \n",
       "0      [E78.5, F02.80, G31.83, R29.6, R44.1, Z85.46]       1305            6  \n",
       "1  [F41.9, I34.1, K21.9, K31.819, K44.9, M81.0, R...        626            9  \n",
       "2  [0QS734Z, E78.00, F41.9, G43.909, I34.1, K21.9...        887           13  \n",
       "3  [D50.0, E11.8, I12.9, I25.10, I25.2, I50.23, I...       1722           22  \n",
       "4  [D63.1, E11.21, E78.5, I12.9, I25.10, I25.2, I...       1547           16  "
      ]
     },
     "execution_count": 12,
     "metadata": {},
     "output_type": "execute_result"
    }
   ],
   "source": [
    "mimic_iv_icd10.head()"
   ]
  },
  {
   "cell_type": "code",
   "execution_count": 13,
   "id": "b97f0a6d-f539-4ff2-b6d9-bfdf5428fe40",
   "metadata": {
    "tags": []
   },
   "outputs": [
    {
     "data": {
      "text/html": [
       "<div>\n",
       "<style scoped>\n",
       "    .dataframe tbody tr th:only-of-type {\n",
       "        vertical-align: middle;\n",
       "    }\n",
       "\n",
       "    .dataframe tbody tr th {\n",
       "        vertical-align: top;\n",
       "    }\n",
       "\n",
       "    .dataframe thead th {\n",
       "        text-align: right;\n",
       "    }\n",
       "</style>\n",
       "<table border=\"1\" class=\"dataframe\">\n",
       "  <thead>\n",
       "    <tr style=\"text-align: right;\">\n",
       "      <th></th>\n",
       "      <th>note_id</th>\n",
       "      <th>subject_id</th>\n",
       "      <th>_id</th>\n",
       "      <th>note_type</th>\n",
       "      <th>note_seq</th>\n",
       "      <th>charttime</th>\n",
       "      <th>storetime</th>\n",
       "      <th>text</th>\n",
       "      <th>icd9_proc</th>\n",
       "      <th>icd9_diag</th>\n",
       "      <th>target</th>\n",
       "      <th>num_words</th>\n",
       "      <th>num_targets</th>\n",
       "    </tr>\n",
       "  </thead>\n",
       "  <tbody>\n",
       "    <tr>\n",
       "      <th>0</th>\n",
       "      <td>10000032-DS-21</td>\n",
       "      <td>10000032</td>\n",
       "      <td>22595853</td>\n",
       "      <td>DS</td>\n",
       "      <td>21</td>\n",
       "      <td>2180-05-07 00:00:00</td>\n",
       "      <td>2180-05-09 15:26:00</td>\n",
       "      <td>name unit no admission date discharge date dat...</td>\n",
       "      <td>[54.91]</td>\n",
       "      <td>[070.70, 296.80, 309.81, 496, 571.5, 572.3, 78...</td>\n",
       "      <td>[54.91, 070.70, 296.80, 309.81, 496, 571.5, 57...</td>\n",
       "      <td>1126</td>\n",
       "      <td>9</td>\n",
       "    </tr>\n",
       "    <tr>\n",
       "      <th>1</th>\n",
       "      <td>10000032-DS-22</td>\n",
       "      <td>10000032</td>\n",
       "      <td>22841357</td>\n",
       "      <td>DS</td>\n",
       "      <td>22</td>\n",
       "      <td>2180-06-27 00:00:00</td>\n",
       "      <td>2180-07-01 10:15:00</td>\n",
       "      <td>name unit no admission date discharge date dat...</td>\n",
       "      <td>[54.91]</td>\n",
       "      <td>[070.71, 276.1, 287.5, 305.1, 496, 571.5, 789....</td>\n",
       "      <td>[54.91, 070.71, 276.1, 287.5, 305.1, 496, 571....</td>\n",
       "      <td>1486</td>\n",
       "      <td>9</td>\n",
       "    </tr>\n",
       "    <tr>\n",
       "      <th>2</th>\n",
       "      <td>10000032-DS-23</td>\n",
       "      <td>10000032</td>\n",
       "      <td>29079034</td>\n",
       "      <td>DS</td>\n",
       "      <td>23</td>\n",
       "      <td>2180-07-25 00:00:00</td>\n",
       "      <td>2180-07-25 21:42:00</td>\n",
       "      <td>name unit no admission date discharge date dat...</td>\n",
       "      <td>[]</td>\n",
       "      <td>[070.44, 276.1, 276.7, 296.80, 305.1, 458.29, ...</td>\n",
       "      <td>[070.44, 276.1, 276.7, 296.80, 305.1, 458.29, ...</td>\n",
       "      <td>1487</td>\n",
       "      <td>13</td>\n",
       "    </tr>\n",
       "    <tr>\n",
       "      <th>3</th>\n",
       "      <td>10000032-DS-24</td>\n",
       "      <td>10000032</td>\n",
       "      <td>25742920</td>\n",
       "      <td>DS</td>\n",
       "      <td>24</td>\n",
       "      <td>2180-08-07 00:00:00</td>\n",
       "      <td>2180-08-10 05:43:00</td>\n",
       "      <td>name unit no admission date discharge date dat...</td>\n",
       "      <td>[54.91]</td>\n",
       "      <td>[070.54, 276.1, 276.7, 305.1, 496, 571.5, 787....</td>\n",
       "      <td>[54.91, 070.54, 276.1, 276.7, 305.1, 496, 571....</td>\n",
       "      <td>1416</td>\n",
       "      <td>11</td>\n",
       "    </tr>\n",
       "    <tr>\n",
       "      <th>4</th>\n",
       "      <td>10000248-DS-10</td>\n",
       "      <td>10000248</td>\n",
       "      <td>20600184</td>\n",
       "      <td>DS</td>\n",
       "      <td>10</td>\n",
       "      <td>2192-11-30 00:00:00</td>\n",
       "      <td>2192-11-30 19:49:00</td>\n",
       "      <td>name unit no admission date discharge date dat...</td>\n",
       "      <td>[]</td>\n",
       "      <td>[285.9, 286.0, 920, 922.2, E849.5, E885.4]</td>\n",
       "      <td>[285.9, 286.0, 920, 922.2, E849.5, E885.4]</td>\n",
       "      <td>1099</td>\n",
       "      <td>6</td>\n",
       "    </tr>\n",
       "  </tbody>\n",
       "</table>\n",
       "</div>"
      ],
      "text/plain": [
       "          note_id  subject_id       _id note_type  note_seq  \\\n",
       "0  10000032-DS-21    10000032  22595853        DS        21   \n",
       "1  10000032-DS-22    10000032  22841357        DS        22   \n",
       "2  10000032-DS-23    10000032  29079034        DS        23   \n",
       "3  10000032-DS-24    10000032  25742920        DS        24   \n",
       "4  10000248-DS-10    10000248  20600184        DS        10   \n",
       "\n",
       "             charttime            storetime  \\\n",
       "0  2180-05-07 00:00:00  2180-05-09 15:26:00   \n",
       "1  2180-06-27 00:00:00  2180-07-01 10:15:00   \n",
       "2  2180-07-25 00:00:00  2180-07-25 21:42:00   \n",
       "3  2180-08-07 00:00:00  2180-08-10 05:43:00   \n",
       "4  2192-11-30 00:00:00  2192-11-30 19:49:00   \n",
       "\n",
       "                                                text icd9_proc  \\\n",
       "0  name unit no admission date discharge date dat...   [54.91]   \n",
       "1  name unit no admission date discharge date dat...   [54.91]   \n",
       "2  name unit no admission date discharge date dat...        []   \n",
       "3  name unit no admission date discharge date dat...   [54.91]   \n",
       "4  name unit no admission date discharge date dat...        []   \n",
       "\n",
       "                                           icd9_diag  \\\n",
       "0  [070.70, 296.80, 309.81, 496, 571.5, 572.3, 78...   \n",
       "1  [070.71, 276.1, 287.5, 305.1, 496, 571.5, 789....   \n",
       "2  [070.44, 276.1, 276.7, 296.80, 305.1, 458.29, ...   \n",
       "3  [070.54, 276.1, 276.7, 305.1, 496, 571.5, 787....   \n",
       "4         [285.9, 286.0, 920, 922.2, E849.5, E885.4]   \n",
       "\n",
       "                                              target  num_words  num_targets  \n",
       "0  [54.91, 070.70, 296.80, 309.81, 496, 571.5, 57...       1126            9  \n",
       "1  [54.91, 070.71, 276.1, 287.5, 305.1, 496, 571....       1486            9  \n",
       "2  [070.44, 276.1, 276.7, 296.80, 305.1, 458.29, ...       1487           13  \n",
       "3  [54.91, 070.54, 276.1, 276.7, 305.1, 496, 571....       1416           11  \n",
       "4         [285.9, 286.0, 920, 922.2, E849.5, E885.4]       1099            6  "
      ]
     },
     "execution_count": 13,
     "metadata": {},
     "output_type": "execute_result"
    }
   ],
   "source": [
    "mimic_iv_icd9.head()"
   ]
  },
  {
   "cell_type": "code",
   "execution_count": 14,
   "id": "2ac1c2af-a916-49b8-9408-6d4c29bef1aa",
   "metadata": {},
   "outputs": [],
   "source": [
    "mimic_iv_icd10_split = pd.read_feather('files/data/mimiciv_icd10/mimiciv_icd10_split.feather')\n",
    "mimic_iv_icd9_split = pd.read_feather('files/data/mimiciv_icd9/mimiciv_icd9_split.feather')"
   ]
  },
  {
   "cell_type": "code",
   "execution_count": 15,
   "id": "097eea69-54b9-4abf-90af-1174f74e8bd3",
   "metadata": {
    "tags": []
   },
   "outputs": [
    {
     "data": {
      "text/plain": [
       "122279"
      ]
     },
     "execution_count": 15,
     "metadata": {},
     "output_type": "execute_result"
    }
   ],
   "source": [
    "len(mimic_iv_icd10)"
   ]
  },
  {
   "cell_type": "code",
   "execution_count": 16,
   "id": "7304667b-f13b-4ec5-a9ef-e12d9ae38a9d",
   "metadata": {
    "tags": []
   },
   "outputs": [
    {
     "data": {
      "text/plain": [
       "122279"
      ]
     },
     "execution_count": 16,
     "metadata": {},
     "output_type": "execute_result"
    }
   ],
   "source": [
    "len(mimic_iv_icd10_split)"
   ]
  },
  {
   "cell_type": "code",
   "execution_count": 17,
   "id": "f4fb58f8-d06c-40dc-9775-01167978c74c",
   "metadata": {},
   "outputs": [
    {
     "data": {
      "text/plain": [
       "209326"
      ]
     },
     "execution_count": 17,
     "metadata": {},
     "output_type": "execute_result"
    }
   ],
   "source": [
    "len(mimic_iv_icd9_split)"
   ]
  },
  {
   "cell_type": "code",
   "execution_count": 18,
   "id": "b5c183d6-fe9e-4a3b-85f0-0dc25361f8eb",
   "metadata": {
    "tags": []
   },
   "outputs": [
    {
     "data": {
      "text/plain": [
       "209326"
      ]
     },
     "execution_count": 18,
     "metadata": {},
     "output_type": "execute_result"
    }
   ],
   "source": [
    "len(mimic_iv_icd9)"
   ]
  },
  {
   "cell_type": "markdown",
   "id": "23502dd6",
   "metadata": {},
   "source": [
    "# Check CPT validation sets"
   ]
  },
  {
   "cell_type": "code",
   "execution_count": 28,
   "id": "fd3b1d09",
   "metadata": {},
   "outputs": [],
   "source": [
    "#import data\n",
    "axa_data = pd.read_feather('files/data/axa_cpt/axa_cpt.feather')\n",
    "mimic_axa_split = pd.read_feather('files/data/mimic_axa_cpt/mimic_axa_cpt_split.feather')\n",
    "mimic_split = pd.read_feather('files/data/mimiciii_clean_cpt/mimiciii_clean_splits.feather')"
   ]
  },
  {
   "cell_type": "code",
   "execution_count": 29,
   "id": "f9e0e17e",
   "metadata": {},
   "outputs": [
    {
     "name": "stdout",
     "output_type": "stream",
     "text": [
      "0.8514150943396226\n"
     ]
    }
   ],
   "source": [
    "#check validation data \n",
    "val_mimic_split =  set(mimic_split[mimic_split['split']=='val']['_id'].unique())\n",
    "val_mimic_axa_split =  set(mimic_axa_split[mimic_axa_split['split']=='val']['_id'].unique())\n",
    "\n",
    "nb_val = len(val_mimic_split)\n",
    "common = len(val_mimic_split.intersection(val_mimic_axa_split))\n",
    "print(common/nb_val)"
   ]
  },
  {
   "cell_type": "code",
   "execution_count": 30,
   "id": "085470df",
   "metadata": {},
   "outputs": [
    {
     "name": "stdout",
     "output_type": "stream",
     "text": [
      "0.9945288753799392\n"
     ]
    }
   ],
   "source": [
    "#check test data\n",
    "test_mimic_split =  set(mimic_split[mimic_split['split']=='test']['_id'].unique())\n",
    "test_mimic_axa_split =  set(mimic_axa_split[mimic_axa_split['split']=='test']['_id'].unique())\n",
    "\n",
    "nb_test = len(test_mimic_split)\n",
    "common = len(test_mimic_split.intersection(test_mimic_axa_split))\n",
    "print(common/nb_test)"
   ]
  },
  {
   "cell_type": "code",
   "execution_count": 31,
   "id": "bd58ec69",
   "metadata": {},
   "outputs": [
    {
     "name": "stdout",
     "output_type": "stream",
     "text": [
      "0.9787020482418995\n"
     ]
    }
   ],
   "source": [
    "#check train data\n",
    "train_mimic_split =  set(mimic_split[mimic_split['split']=='train']['_id'].unique())\n",
    "train_mimic_axa_split =  set(mimic_axa_split[mimic_axa_split['split']=='train']['_id'].unique())\n",
    "\n",
    "nb_train = len(train_mimic_split)\n",
    "common = len(train_mimic_split.intersection(train_mimic_axa_split))\n",
    "print(common/nb_train)"
   ]
  }
 ],
 "metadata": {
  "interpreter": {
   "hash": "871fb798708bc838ff59fced721021478b983a1108d0bec8499998232f12f3e6"
  },
  "kernelspec": {
   "display_name": "Python 3 (ipykernel)",
   "language": "python",
   "name": "python3"
  },
  "language_info": {
   "codemirror_mode": {
    "name": "ipython",
    "version": 3
   },
   "file_extension": ".py",
   "mimetype": "text/x-python",
   "name": "python",
   "nbconvert_exporter": "python",
   "pygments_lexer": "ipython3",
   "version": "3.10.11"
  }
 },
 "nbformat": 4,
 "nbformat_minor": 5
}
